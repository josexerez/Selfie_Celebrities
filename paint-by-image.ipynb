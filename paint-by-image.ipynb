{
 "cells": [
  {
   "cell_type": "code",
   "execution_count": 2,
   "metadata": {},
   "outputs": [
    {
     "name": "stderr",
     "output_type": "stream",
     "text": [
      "/Library/Frameworks/Python.framework/Versions/3.12/lib/python3.12/site-packages/PIL/Image.py:1000: UserWarning: Palette images with Transparency expressed in bytes should be converted to RGBA images\n",
      "  warnings.warn(\n",
      "Loading pipeline components...:   0%|          | 0/5 [00:00<?, ?it/s]You are using a model of type clip_vision_model to instantiate a model of type clip. This is not supported for all configurations of models and can yield errors.\n",
      "Loading pipeline components...:  20%|██        | 1/5 [00:01<00:06,  1.73s/it]An error occurred while trying to fetch /Users/josealeman/.cache/huggingface/hub/models--Fantasy-Studio--Paint-by-Example/snapshots/351e6427d8c28a3b24f7c751d43eb4b6735127f7/unet: Error no file named diffusion_pytorch_model.safetensors found in directory /Users/josealeman/.cache/huggingface/hub/models--Fantasy-Studio--Paint-by-Example/snapshots/351e6427d8c28a3b24f7c751d43eb4b6735127f7/unet.\n",
      "Defaulting to unsafe serialization. Pass `allow_pickle=False` to raise an error instead.\n",
      "Loading pipeline components...:  80%|████████  | 4/5 [00:12<00:03,  3.04s/it]An error occurred while trying to fetch /Users/josealeman/.cache/huggingface/hub/models--Fantasy-Studio--Paint-by-Example/snapshots/351e6427d8c28a3b24f7c751d43eb4b6735127f7/vae: Error no file named diffusion_pytorch_model.safetensors found in directory /Users/josealeman/.cache/huggingface/hub/models--Fantasy-Studio--Paint-by-Example/snapshots/351e6427d8c28a3b24f7c751d43eb4b6735127f7/vae.\n",
      "Defaulting to unsafe serialization. Pass `allow_pickle=False` to raise an error instead.\n",
      "Loading pipeline components...: 100%|██████████| 5/5 [00:14<00:00,  2.86s/it]\n",
      "100%|██████████| 50/50 [14:48<00:00, 17.78s/it]\n"
     ]
    },
    {
     "name": "stdout",
     "output_type": "stream",
     "text": [
      "Imagen guardada en: /Volumes/Seagate Backup Plus Drive/Proyectos DATA/End-to-End/1_Celebrities_Photo/einstein_messi.png\n"
     ]
    }
   ],
   "source": [
    "import PIL\n",
    "import torch\n",
    "from diffusers import DiffusionPipeline\n",
    "import os\n",
    "\n",
    "# Cambiar rutas locales para manejar archivos locales directamente\n",
    "img_path = \"/Volumes/Seagate Backup Plus Drive/Proyectos DATA/End-to-End/1_Celebrities_Photo/paint-by-image/selfie_eis.png\"\n",
    "mask_path = \"/Volumes/Seagate Backup Plus Drive/Proyectos DATA/End-to-End/1_Celebrities_Photo/paint-by-image/selfie_eis_mask.png\"\n",
    "example_path = \"/Volumes/Seagate Backup Plus Drive/Proyectos DATA/End-to-End/1_Celebrities_Photo/paint-by-image/MESSI.jpg\"\n",
    "\n",
    "# Usar PIL directamente para abrir imágenes locales\n",
    "init_image = PIL.Image.open(img_path).convert(\"RGB\").resize((512, 512))\n",
    "mask_image = PIL.Image.open(mask_path).convert(\"RGB\").resize((512, 512))\n",
    "example_image = PIL.Image.open(example_path).convert(\"RGB\").resize((512, 512))\n",
    "\n",
    "# Configuración de DiffusionPipeline\n",
    "pipe = DiffusionPipeline.from_pretrained(\n",
    "    \"Fantasy-Studio/Paint-by-Example\",\n",
    "    torch_dtype=torch.float32,\n",
    ")\n",
    "pipe = pipe.to(\"cpu\")\n",
    "\n",
    "# Generar imagen\n",
    "result = pipe(\n",
    "    image=init_image, \n",
    "    mask_image=mask_image, \n",
    "    example_image=example_image\n",
    ")\n",
    "\n",
    "# Obtener el resultado\n",
    "image = result.images[0]\n",
    "\n",
    "# Mostrar la imagen generada\n",
    "image.show()\n",
    "\n",
    "# Obtener la ruta del directorio donde está el notebook\n",
    "notebook_dir = os.getcwd()\n",
    "\n",
    "# Guardar la imagen generada en la misma carpeta donde está el notebook\n",
    "output_path = os.path.join(notebook_dir, \"einstein_messi.png\")\n",
    "image.save(output_path)\n",
    "print(f\"Imagen guardada en: {output_path}\")\n"
   ]
  },
  {
   "cell_type": "code",
   "execution_count": null,
   "metadata": {},
   "outputs": [],
   "source": []
  }
 ],
 "metadata": {
  "kernelspec": {
   "display_name": "Python 3",
   "language": "python",
   "name": "python3"
  },
  "language_info": {
   "codemirror_mode": {
    "name": "ipython",
    "version": 3
   },
   "file_extension": ".py",
   "mimetype": "text/x-python",
   "name": "python",
   "nbconvert_exporter": "python",
   "pygments_lexer": "ipython3",
   "version": "3.12.2"
  }
 },
 "nbformat": 4,
 "nbformat_minor": 2
}
